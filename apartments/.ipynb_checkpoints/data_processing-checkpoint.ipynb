{
 "cells": [
  {
   "cell_type": "code",
   "execution_count": 46,
   "metadata": {},
   "outputs": [],
   "source": [
    "import pandas as pd\n",
    "import numpy as np\n",
    "from geopy.distance import geodesic \n",
    "import matplotlib.pyplot as plt\n",
    "import math\n",
    "import seaborn as sns\n",
    "%matplotlib inline\n",
    "import warnings\n",
    "warnings.filterwarnings('ignore')"
   ]
  },
  {
   "cell_type": "code",
   "execution_count": 47,
   "metadata": {},
   "outputs": [
    {
     "data": {
      "text/html": [
       "<div>\n",
       "<style scoped>\n",
       "    .dataframe tbody tr th:only-of-type {\n",
       "        vertical-align: middle;\n",
       "    }\n",
       "\n",
       "    .dataframe tbody tr th {\n",
       "        vertical-align: top;\n",
       "    }\n",
       "\n",
       "    .dataframe thead th {\n",
       "        text-align: right;\n",
       "    }\n",
       "</style>\n",
       "<table border=\"1\" class=\"dataframe\">\n",
       "  <thead>\n",
       "    <tr style=\"text-align: right;\">\n",
       "      <th></th>\n",
       "      <th>wallsMaterial</th>\n",
       "      <th>floorNumber</th>\n",
       "      <th>floorsTotal</th>\n",
       "      <th>totalArea</th>\n",
       "      <th>kitchenArea</th>\n",
       "      <th>latitude</th>\n",
       "      <th>longitude</th>\n",
       "      <th>price</th>\n",
       "    </tr>\n",
       "  </thead>\n",
       "  <tbody>\n",
       "    <tr>\n",
       "      <th>42611</th>\n",
       "      <td>panel</td>\n",
       "      <td>6</td>\n",
       "      <td>9.0</td>\n",
       "      <td>60.0</td>\n",
       "      <td>6.0</td>\n",
       "      <td>55.722041</td>\n",
       "      <td>37.810863</td>\n",
       "      <td>8300000</td>\n",
       "    </tr>\n",
       "    <tr>\n",
       "      <th>12717</th>\n",
       "      <td>brick</td>\n",
       "      <td>10</td>\n",
       "      <td>18.0</td>\n",
       "      <td>40.1</td>\n",
       "      <td>9.0</td>\n",
       "      <td>55.925672</td>\n",
       "      <td>37.544396</td>\n",
       "      <td>6600000</td>\n",
       "    </tr>\n",
       "    <tr>\n",
       "      <th>4399</th>\n",
       "      <td>panel</td>\n",
       "      <td>7</td>\n",
       "      <td>17.0</td>\n",
       "      <td>76.0</td>\n",
       "      <td>12.0</td>\n",
       "      <td>55.623295</td>\n",
       "      <td>37.613737</td>\n",
       "      <td>13900000</td>\n",
       "    </tr>\n",
       "    <tr>\n",
       "      <th>47102</th>\n",
       "      <td>panel</td>\n",
       "      <td>7</td>\n",
       "      <td>16.0</td>\n",
       "      <td>34.6</td>\n",
       "      <td>10.0</td>\n",
       "      <td>55.584578</td>\n",
       "      <td>37.650307</td>\n",
       "      <td>5950000</td>\n",
       "    </tr>\n",
       "    <tr>\n",
       "      <th>43633</th>\n",
       "      <td>monolith</td>\n",
       "      <td>18</td>\n",
       "      <td>21.0</td>\n",
       "      <td>131.9</td>\n",
       "      <td>12.0</td>\n",
       "      <td>55.784066</td>\n",
       "      <td>37.697469</td>\n",
       "      <td>36206552</td>\n",
       "    </tr>\n",
       "    <tr>\n",
       "      <th>27851</th>\n",
       "      <td>brick</td>\n",
       "      <td>2</td>\n",
       "      <td>5.0</td>\n",
       "      <td>118.0</td>\n",
       "      <td>12.0</td>\n",
       "      <td>55.794027</td>\n",
       "      <td>37.495078</td>\n",
       "      <td>22900000</td>\n",
       "    </tr>\n",
       "    <tr>\n",
       "      <th>37452</th>\n",
       "      <td>monolith</td>\n",
       "      <td>4</td>\n",
       "      <td>18.0</td>\n",
       "      <td>140.0</td>\n",
       "      <td>18.0</td>\n",
       "      <td>55.784622</td>\n",
       "      <td>37.523177</td>\n",
       "      <td>39900000</td>\n",
       "    </tr>\n",
       "    <tr>\n",
       "      <th>60028</th>\n",
       "      <td>monolith</td>\n",
       "      <td>34</td>\n",
       "      <td>36.0</td>\n",
       "      <td>96.0</td>\n",
       "      <td>17.0</td>\n",
       "      <td>55.762789</td>\n",
       "      <td>37.508984</td>\n",
       "      <td>28000000</td>\n",
       "    </tr>\n",
       "    <tr>\n",
       "      <th>16283</th>\n",
       "      <td>block</td>\n",
       "      <td>9</td>\n",
       "      <td>9.0</td>\n",
       "      <td>30.0</td>\n",
       "      <td>6.0</td>\n",
       "      <td>55.710874</td>\n",
       "      <td>37.786770</td>\n",
       "      <td>5450000</td>\n",
       "    </tr>\n",
       "    <tr>\n",
       "      <th>31309</th>\n",
       "      <td>brick</td>\n",
       "      <td>5</td>\n",
       "      <td>13.0</td>\n",
       "      <td>53.7</td>\n",
       "      <td>17.7</td>\n",
       "      <td>55.722142</td>\n",
       "      <td>37.618569</td>\n",
       "      <td>27000000</td>\n",
       "    </tr>\n",
       "  </tbody>\n",
       "</table>\n",
       "</div>"
      ],
      "text/plain": [
       "      wallsMaterial  floorNumber  floorsTotal  totalArea  kitchenArea  \\\n",
       "42611         panel            6          9.0       60.0          6.0   \n",
       "12717         brick           10         18.0       40.1          9.0   \n",
       "4399          panel            7         17.0       76.0         12.0   \n",
       "47102         panel            7         16.0       34.6         10.0   \n",
       "43633      monolith           18         21.0      131.9         12.0   \n",
       "27851         brick            2          5.0      118.0         12.0   \n",
       "37452      monolith            4         18.0      140.0         18.0   \n",
       "60028      monolith           34         36.0       96.0         17.0   \n",
       "16283         block            9          9.0       30.0          6.0   \n",
       "31309         brick            5         13.0       53.7         17.7   \n",
       "\n",
       "        latitude  longitude     price  \n",
       "42611  55.722041  37.810863   8300000  \n",
       "12717  55.925672  37.544396   6600000  \n",
       "4399   55.623295  37.613737  13900000  \n",
       "47102  55.584578  37.650307   5950000  \n",
       "43633  55.784066  37.697469  36206552  \n",
       "27851  55.794027  37.495078  22900000  \n",
       "37452  55.784622  37.523177  39900000  \n",
       "60028  55.762789  37.508984  28000000  \n",
       "16283  55.710874  37.786770   5450000  \n",
       "31309  55.722142  37.618569  27000000  "
      ]
     },
     "execution_count": 47,
     "metadata": {},
     "output_type": "execute_result"
    }
   ],
   "source": [
    "data = pd.read_csv('moscow_dataset_2020.csv')\n",
    "data.sample(n=10)"
   ]
  },
  {
   "cell_type": "markdown",
   "metadata": {},
   "source": [
    "# Создаем новые фичи\n",
    "* -Удаленность от центра\n",
    "* -Азимут"
   ]
  },
  {
   "cell_type": "code",
   "execution_count": 48,
   "metadata": {},
   "outputs": [
    {
     "name": "stdout",
     "output_type": "stream",
     "text": [
      "<class 'pandas.core.frame.DataFrame'>\n",
      "RangeIndex: 63945 entries, 0 to 63944\n",
      "Data columns (total 10 columns):\n",
      "wallsMaterial    63945 non-null object\n",
      "floorNumber      63945 non-null int64\n",
      "floorsTotal      63945 non-null float64\n",
      "totalArea        63945 non-null float64\n",
      "kitchenArea      63945 non-null float64\n",
      "latitude         63945 non-null float64\n",
      "longitude        63945 non-null float64\n",
      "price            63945 non-null int64\n",
      "distance         63945 non-null float64\n",
      "azimuth          63945 non-null float64\n",
      "dtypes: float64(7), int64(2), object(1)\n",
      "memory usage: 4.9+ MB\n"
     ]
    }
   ],
   "source": [
    "def get_azimuth(latitude, longitude):\n",
    " \n",
    "    rad = 6372795\n",
    "\n",
    "    llat1 = city_center_coordinates[0]\n",
    "    llong1 = city_center_coordinates[1]\n",
    "    llat2 = latitude\n",
    "    llong2 = longitude\n",
    "\n",
    "    lat1 = llat1*math.pi/180.\n",
    "    lat2 = llat2*math.pi/180.\n",
    "    long1 = llong1*math.pi/180.\n",
    "    long2 = llong2*math.pi/180.\n",
    "\n",
    "    cl1 = math.cos(lat1)\n",
    "    cl2 = math.cos(lat2)\n",
    "    sl1 = math.sin(lat1)\n",
    "    sl2 = math.sin(lat2)\n",
    "    delta = long2 - long1\n",
    "    cdelta = math.cos(delta)\n",
    "    sdelta = math.sin(delta)\n",
    "\n",
    "    y = math.sqrt(math.pow(cl2*sdelta,2)+math.pow(cl1*sl2-sl1*cl2*cdelta,2))\n",
    "    x = sl1*sl2+cl1*cl2*cdelta\n",
    "    ad = math.atan2(y,x)\n",
    "\n",
    "    x = (cl1*sl2) - (sl1*cl2*cdelta)\n",
    "    y = sdelta*cl2\n",
    "    z = math.degrees(math.atan(-y/x))\n",
    "\n",
    "    if (x < 0):\n",
    "        z = z+180.\n",
    "\n",
    "    z2 = (z+180.) % 360. - 180.\n",
    "    z2 = - math.radians(z2)\n",
    "    anglerad2 = z2 - ((2*math.pi)*math.floor((z2/(2*math.pi))) )\n",
    "    angledeg = (anglerad2*180.)/math.pi\n",
    "    \n",
    "    return round(angledeg, 2)\n",
    "\n",
    "city_center_coordinates = [55.7522, 37.6156]\n",
    "data['distance'] = list(map(lambda x, y: geodesic(city_center_coordinates, [x, y]).meters, data['latitude'], data['longitude']))\n",
    "data['azimuth'] = list(map(lambda x, y: get_azimuth(x, y), data['latitude'], data['longitude']))\n",
    "data['distance'] = data['distance'].round(0)\n",
    "data['azimuth'] = data['azimuth'].round(0)\n",
    "data.info()"
   ]
  },
  {
   "cell_type": "code",
   "execution_count": 49,
   "metadata": {},
   "outputs": [
    {
     "data": {
      "text/plain": [
       "(63945, 10)"
      ]
     },
     "execution_count": 49,
     "metadata": {},
     "output_type": "execute_result"
    }
   ],
   "source": [
    "data.shape"
   ]
  },
  {
   "cell_type": "markdown",
   "metadata": {},
   "source": [
    "# Очистка данных"
   ]
  },
  {
   "cell_type": "code",
   "execution_count": 50,
   "metadata": {},
   "outputs": [],
   "source": [
    "first_quartile = data.quantile(q=0.25)\n",
    "third_quartile = data.quantile(q=0.75)\n",
    "IQR = third_quartile - first_quartile\n",
    "outliers = data[(data > (third_quartile + 1.5 * IQR)) | (data < (first_quartile - 1.5 * IQR))].count(axis=1)\n",
    "outliers.sort_values(axis=0, ascending=False, inplace=True)\n",
    "outliers = outliers.head(7000)\n",
    "data.drop(outliers.index, inplace=True)"
   ]
  },
  {
   "cell_type": "markdown",
   "metadata": {},
   "source": [
    "# Графики"
   ]
  },
  {
   "cell_type": "code",
   "execution_count": 51,
   "metadata": {},
   "outputs": [
    {
     "data": {
      "text/plain": [
       "<matplotlib.axes._subplots.AxesSubplot at 0x7f0628ff2dd8>"
      ]
     },
     "execution_count": 51,
     "metadata": {},
     "output_type": "execute_result"
    },
    {
     "data": {
      "image/png": "[encoded data removed]",
      "text/plain": [
       "<Figure size 1440x720 with 2 Axes>"
      ]
     },
     "metadata": {
      "needs_background": "light"
     },
     "output_type": "display_data"
    }
   ],
   "source": [
    "num_vars=data.select_dtypes(include=['float64','int64']).columns\n",
    "plt.figure(figsize = (20,10))  \n",
    "sns.heatmap(data[num_vars].corr(),cmap=\"YlGnBu\",annot = True)"
   ]
  },
  {
   "cell_type": "markdown",
   "metadata": {},
   "source": [
    "# Сохраняем результат"
   ]
  },
  {
   "cell_type": "code",
   "execution_count": 52,
   "metadata": {},
   "outputs": [],
   "source": [
    "data.to_csv('data_clear.csv', index=False)"
   ]
  },
  {
   "cell_type": "code",
   "execution_count": null,
   "metadata": {},
   "outputs": [],
   "source": []
  }
 ],
 "metadata": {
  "kernelspec": {
   "display_name": "Python 3",
   "language": "python",
   "name": "python3"
  },
  "language_info": {
   "codemirror_mode": {
    "name": "ipython",
    "version": 3
   },
   "file_extension": ".py",
   "mimetype": "text/x-python",
   "name": "python",
   "nbconvert_exporter": "python",
   "pygments_lexer": "ipython3",
   "version": "3.7.3"
  }
 },
 "nbformat": 4,
 "nbformat_minor": 2
}
