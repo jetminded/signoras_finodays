{
 "cells": [
  {
   "cell_type": "code",
   "execution_count": 6,
   "metadata": {},
   "outputs": [],
   "source": [
    "import pandas as pd\n",
    "import numpy as np\n",
    "import matplotlib.pyplot as plt\n",
    "from sklearn.model_selection import train_test_split\n",
    "from catboost import CatBoostRegressor, Pool\n",
    "import seaborn as sns\n",
    "%matplotlib inline\n",
    "import warnings\n",
    "warnings.filterwarnings('ignore')"
   ]
  },
  {
   "cell_type": "code",
   "execution_count": 7,
   "metadata": {},
   "outputs": [
    {
     "data": {
      "text/html": [
       "<div>\n",
       "<style scoped>\n",
       "    .dataframe tbody tr th:only-of-type {\n",
       "        vertical-align: middle;\n",
       "    }\n",
       "\n",
       "    .dataframe tbody tr th {\n",
       "        vertical-align: top;\n",
       "    }\n",
       "\n",
       "    .dataframe thead th {\n",
       "        text-align: right;\n",
       "    }\n",
       "</style>\n",
       "<table border=\"1\" class=\"dataframe\">\n",
       "  <thead>\n",
       "    <tr style=\"text-align: right;\">\n",
       "      <th></th>\n",
       "      <th>price</th>\n",
       "      <th>bedrooms</th>\n",
       "      <th>bathrooms</th>\n",
       "      <th>living_square</th>\n",
       "      <th>total_square</th>\n",
       "      <th>floors</th>\n",
       "      <th>yr_built</th>\n",
       "      <th>yr_renovated</th>\n",
       "    </tr>\n",
       "  </thead>\n",
       "  <tbody>\n",
       "    <tr>\n",
       "      <th>4806</th>\n",
       "      <td>51937600.0</td>\n",
       "      <td>4</td>\n",
       "      <td>3.50</td>\n",
       "      <td>35053.763441</td>\n",
       "      <td>1.189022e+06</td>\n",
       "      <td>2.0</td>\n",
       "      <td>17</td>\n",
       "      <td>17</td>\n",
       "    </tr>\n",
       "    <tr>\n",
       "      <th>18008</th>\n",
       "      <td>43947200.0</td>\n",
       "      <td>5</td>\n",
       "      <td>3.00</td>\n",
       "      <td>39462.365591</td>\n",
       "      <td>1.032258e+05</td>\n",
       "      <td>1.0</td>\n",
       "      <td>60</td>\n",
       "      <td>60</td>\n",
       "    </tr>\n",
       "    <tr>\n",
       "      <th>2451</th>\n",
       "      <td>31416800.0</td>\n",
       "      <td>3</td>\n",
       "      <td>2.00</td>\n",
       "      <td>18494.623656</td>\n",
       "      <td>8.758065e+04</td>\n",
       "      <td>2.0</td>\n",
       "      <td>66</td>\n",
       "      <td>66</td>\n",
       "    </tr>\n",
       "    <tr>\n",
       "      <th>8210</th>\n",
       "      <td>39879360.0</td>\n",
       "      <td>3</td>\n",
       "      <td>2.50</td>\n",
       "      <td>24193.548387</td>\n",
       "      <td>9.930108e+04</td>\n",
       "      <td>2.0</td>\n",
       "      <td>29</td>\n",
       "      <td>29</td>\n",
       "    </tr>\n",
       "    <tr>\n",
       "      <th>2258</th>\n",
       "      <td>38499200.0</td>\n",
       "      <td>4</td>\n",
       "      <td>2.75</td>\n",
       "      <td>26344.086022</td>\n",
       "      <td>1.613118e+05</td>\n",
       "      <td>1.0</td>\n",
       "      <td>40</td>\n",
       "      <td>40</td>\n",
       "    </tr>\n",
       "  </tbody>\n",
       "</table>\n",
       "</div>"
      ],
      "text/plain": [
       "            price  bedrooms  bathrooms  living_square  total_square  floors  \\\n",
       "4806   51937600.0         4       3.50   35053.763441  1.189022e+06     2.0   \n",
       "18008  43947200.0         5       3.00   39462.365591  1.032258e+05     1.0   \n",
       "2451   31416800.0         3       2.00   18494.623656  8.758065e+04     2.0   \n",
       "8210   39879360.0         3       2.50   24193.548387  9.930108e+04     2.0   \n",
       "2258   38499200.0         4       2.75   26344.086022  1.613118e+05     1.0   \n",
       "\n",
       "       yr_built  yr_renovated  \n",
       "4806         17            17  \n",
       "18008        60            60  \n",
       "2451         66            66  \n",
       "8210         29            29  \n",
       "2258         40            40  "
      ]
     },
     "execution_count": 7,
     "metadata": {},
     "output_type": "execute_result"
    }
   ],
   "source": [
    "data = pd.read_csv('processed_data.csv')\n",
    "data.sample(n=5)"
   ]
  },
  {
   "cell_type": "code",
   "execution_count": 8,
   "metadata": {},
   "outputs": [],
   "source": [
    "y = data['price']\n",
    "features = [\n",
    "            'bedrooms', \n",
    "            'bathrooms', \n",
    "            'living_square', \n",
    "            'total_square', \n",
    "            'floors',\n",
    "            'yr_built',\n",
    "            'yr_renovated',\n",
    "           ]\n",
    "categorical_features = []\n",
    "X = data[features]\n",
    "train_X, test_X, train_y, test_y = train_test_split(X, y, random_state=1)\n",
    "\n",
    "train_pool = Pool(train_X, \n",
    "                  train_y, \n",
    "                  cat_features=categorical_features)\n",
    "test_pool = Pool(test_X, \n",
    "                 cat_features=categorical_features)"
   ]
  },
  {
   "cell_type": "code",
   "execution_count": 9,
   "metadata": {},
   "outputs": [
    {
     "data": {
      "text/plain": [
       "<catboost.core.CatBoostRegressor at 0x7f62e3f52940>"
      ]
     },
     "execution_count": 9,
     "metadata": {},
     "output_type": "execute_result"
    }
   ],
   "source": [
    "model = CatBoostRegressor(\n",
    "                              depth=10, \n",
    "                              iterations=5000, \n",
    "                              learning_rate=0.03, \n",
    "                              loss_function='MAE'\n",
    "                         )\n",
    "model.fit(train_pool, verbose=False)"
   ]
  },
  {
   "cell_type": "code",
   "execution_count": 10,
   "metadata": {},
   "outputs": [
    {
     "name": "stdout",
     "output_type": "stream",
     "text": [
      "Mean:  27.22301142576024\n",
      "Median:  20.356276002946032\n",
      "Max:  301.6790063072405\n",
      "Min:  5.816060096627053e-05\n"
     ]
    }
   ],
   "source": [
    "preds = model.predict(test_pool)\n",
    "print('Mean: ', (abs(preds - test_y) / test_y * 100).mean())\n",
    "print('Median: ', (abs(preds - test_y) / test_y * 100).median())\n",
    "print('Max: ', (abs(preds - test_y) / test_y * 100).max())\n",
    "print('Min: ', (abs(preds - test_y) / test_y * 100).min())"
   ]
  },
  {
   "cell_type": "code",
   "execution_count": 11,
   "metadata": {},
   "outputs": [],
   "source": [
    "import pickle\n",
    "with open('Houses.pkl', 'wb') as model_file:\n",
    "  pickle.dump(model, model_file)"
   ]
  },
  {
   "cell_type": "code",
   "execution_count": null,
   "metadata": {},
   "outputs": [],
   "source": []
  }
 ],
 "metadata": {
  "kernelspec": {
   "display_name": "Python 3",
   "language": "python",
   "name": "python3"
  },
  "language_info": {
   "codemirror_mode": {
    "name": "ipython",
    "version": 3
   },
   "file_extension": ".py",
   "mimetype": "text/x-python",
   "name": "python",
   "nbconvert_exporter": "python",
   "pygments_lexer": "ipython3",
   "version": "3.7.3"
  }
 },
 "nbformat": 4,
 "nbformat_minor": 2
}
