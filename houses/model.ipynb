{
 "cells": [
  {
   "cell_type": "code",
   "execution_count": 14,
   "metadata": {},
   "outputs": [],
   "source": [
    "import pandas as pd\n",
    "import numpy as np\n",
    "import matplotlib.pyplot as plt\n",
    "from sklearn.model_selection import train_test_split\n",
    "from catboost import CatBoostRegressor, Pool\n",
    "import seaborn as sns\n",
    "%matplotlib inline\n",
    "import warnings\n",
    "warnings.filterwarnings('ignore')"
   ]
  },
  {
   "cell_type": "code",
   "execution_count": 15,
   "metadata": {},
   "outputs": [
    {
     "data": {
      "text/html": [
       "<div>\n",
       "<style scoped>\n",
       "    .dataframe tbody tr th:only-of-type {\n",
       "        vertical-align: middle;\n",
       "    }\n",
       "\n",
       "    .dataframe tbody tr th {\n",
       "        vertical-align: top;\n",
       "    }\n",
       "\n",
       "    .dataframe thead th {\n",
       "        text-align: right;\n",
       "    }\n",
       "</style>\n",
       "<table border=\"1\" class=\"dataframe\">\n",
       "  <thead>\n",
       "    <tr style=\"text-align: right;\">\n",
       "      <th></th>\n",
       "      <th>price</th>\n",
       "      <th>bedrooms</th>\n",
       "      <th>bathrooms</th>\n",
       "      <th>living_square</th>\n",
       "      <th>total_square</th>\n",
       "      <th>floors</th>\n",
       "      <th>view</th>\n",
       "      <th>condition</th>\n",
       "      <th>yr_built</th>\n",
       "      <th>yr_renovated</th>\n",
       "    </tr>\n",
       "  </thead>\n",
       "  <tbody>\n",
       "    <tr>\n",
       "      <th>18798</th>\n",
       "      <td>39225600.0</td>\n",
       "      <td>3</td>\n",
       "      <td>2.50</td>\n",
       "      <td>33333.333333</td>\n",
       "      <td>1.077290e+06</td>\n",
       "      <td>1.0</td>\n",
       "      <td>0</td>\n",
       "      <td>4</td>\n",
       "      <td>33</td>\n",
       "      <td>33</td>\n",
       "    </tr>\n",
       "    <tr>\n",
       "      <th>14954</th>\n",
       "      <td>19467520.0</td>\n",
       "      <td>3</td>\n",
       "      <td>1.75</td>\n",
       "      <td>17204.301075</td>\n",
       "      <td>8.291398e+04</td>\n",
       "      <td>1.0</td>\n",
       "      <td>0</td>\n",
       "      <td>3</td>\n",
       "      <td>15</td>\n",
       "      <td>15</td>\n",
       "    </tr>\n",
       "    <tr>\n",
       "      <th>4457</th>\n",
       "      <td>54407360.0</td>\n",
       "      <td>4</td>\n",
       "      <td>2.00</td>\n",
       "      <td>21935.483871</td>\n",
       "      <td>1.274194e+05</td>\n",
       "      <td>1.0</td>\n",
       "      <td>2</td>\n",
       "      <td>3</td>\n",
       "      <td>55</td>\n",
       "      <td>55</td>\n",
       "    </tr>\n",
       "    <tr>\n",
       "      <th>6723</th>\n",
       "      <td>43511360.0</td>\n",
       "      <td>3</td>\n",
       "      <td>2.75</td>\n",
       "      <td>21075.268817</td>\n",
       "      <td>2.688172e+04</td>\n",
       "      <td>1.5</td>\n",
       "      <td>0</td>\n",
       "      <td>5</td>\n",
       "      <td>88</td>\n",
       "      <td>88</td>\n",
       "    </tr>\n",
       "    <tr>\n",
       "      <th>2637</th>\n",
       "      <td>40533120.0</td>\n",
       "      <td>3</td>\n",
       "      <td>2.50</td>\n",
       "      <td>18064.516129</td>\n",
       "      <td>1.004301e+04</td>\n",
       "      <td>3.0</td>\n",
       "      <td>0</td>\n",
       "      <td>3</td>\n",
       "      <td>7</td>\n",
       "      <td>7</td>\n",
       "    </tr>\n",
       "  </tbody>\n",
       "</table>\n",
       "</div>"
      ],
      "text/plain": [
       "            price  bedrooms  bathrooms  living_square  total_square  floors  \\\n",
       "18798  39225600.0         3       2.50   33333.333333  1.077290e+06     1.0   \n",
       "14954  19467520.0         3       1.75   17204.301075  8.291398e+04     1.0   \n",
       "4457   54407360.0         4       2.00   21935.483871  1.274194e+05     1.0   \n",
       "6723   43511360.0         3       2.75   21075.268817  2.688172e+04     1.5   \n",
       "2637   40533120.0         3       2.50   18064.516129  1.004301e+04     3.0   \n",
       "\n",
       "       view  condition  yr_built  yr_renovated  \n",
       "18798     0          4        33            33  \n",
       "14954     0          3        15            15  \n",
       "4457      2          3        55            55  \n",
       "6723      0          5        88            88  \n",
       "2637      0          3         7             7  "
      ]
     },
     "execution_count": 15,
     "metadata": {},
     "output_type": "execute_result"
    }
   ],
   "source": [
    "data = pd.read_csv('processed_data.csv')\n",
    "data.sample(n=5)"
   ]
  },
  {
   "cell_type": "code",
   "execution_count": 16,
   "metadata": {},
   "outputs": [],
   "source": [
    "y = data['price']\n",
    "features = [\n",
    "            'bedrooms', \n",
    "            'bathrooms', \n",
    "            'living_square', \n",
    "            'total_square', \n",
    "            'floors',\n",
    "            'yr_built',\n",
    "            'yr_renovated',\n",
    "           ]\n",
    "categorical_features = []\n",
    "X = data[features]\n",
    "train_X, test_X, train_y, test_y = train_test_split(X, y, random_state=1)\n",
    "\n",
    "train_pool = Pool(train_X, \n",
    "                  train_y, \n",
    "                  cat_features=categorical_features)\n",
    "test_pool = Pool(test_X, \n",
    "                 cat_features=categorical_features)"
   ]
  },
  {
   "cell_type": "code",
   "execution_count": 17,
   "metadata": {},
   "outputs": [
    {
     "data": {
      "text/plain": [
       "<catboost.core.CatBoostRegressor at 0x7fe7a5b0a668>"
      ]
     },
     "execution_count": 17,
     "metadata": {},
     "output_type": "execute_result"
    }
   ],
   "source": [
    "model = CatBoostRegressor(\n",
    "                              depth=10, \n",
    "                              iterations=5000, \n",
    "                              learning_rate=0.03, \n",
    "                              loss_function='MAE'\n",
    "                         )\n",
    "model.fit(train_pool, verbose=False)"
   ]
  },
  {
   "cell_type": "code",
   "execution_count": 18,
   "metadata": {},
   "outputs": [
    {
     "name": "stdout",
     "output_type": "stream",
     "text": [
      "Mean:  27.22301142576024\n",
      "Median:  20.356276002946032\n",
      "Max:  301.6790063072405\n",
      "Min:  5.816060096627053e-05\n"
     ]
    }
   ],
   "source": [
    "preds = model.predict(test_pool)\n",
    "print('Mean: ', (abs(preds - test_y) / test_y * 100).mean())\n",
    "print('Median: ', (abs(preds - test_y) / test_y * 100).median())\n",
    "print('Max: ', (abs(preds - test_y) / test_y * 100).max())\n",
    "print('Min: ', (abs(preds - test_y) / test_y * 100).min())"
   ]
  },
  {
   "cell_type": "code",
   "execution_count": null,
   "metadata": {},
   "outputs": [],
   "source": []
  }
 ],
 "metadata": {
  "kernelspec": {
   "display_name": "Python 3",
   "language": "python",
   "name": "python3"
  },
  "language_info": {
   "codemirror_mode": {
    "name": "ipython",
    "version": 3
   },
   "file_extension": ".py",
   "mimetype": "text/x-python",
   "name": "python",
   "nbconvert_exporter": "python",
   "pygments_lexer": "ipython3",
   "version": "3.7.3"
  }
 },
 "nbformat": 4,
 "nbformat_minor": 2
}
